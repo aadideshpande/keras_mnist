{
 "cells": [
  {
   "cell_type": "code",
   "execution_count": 1,
   "metadata": {},
   "outputs": [
    {
     "name": "stderr",
     "output_type": "stream",
     "text": [
      "Using TensorFlow backend.\n",
      "E:\\Miniconda3\\envs\\deeplearning\\lib\\site-packages\\tensorflow\\python\\framework\\dtypes.py:516: FutureWarning: Passing (type, 1) or '1type' as a synonym of type is deprecated; in a future version of numpy, it will be understood as (type, (1,)) / '(1,)type'.\n",
      "  _np_qint8 = np.dtype([(\"qint8\", np.int8, 1)])\n",
      "E:\\Miniconda3\\envs\\deeplearning\\lib\\site-packages\\tensorflow\\python\\framework\\dtypes.py:517: FutureWarning: Passing (type, 1) or '1type' as a synonym of type is deprecated; in a future version of numpy, it will be understood as (type, (1,)) / '(1,)type'.\n",
      "  _np_quint8 = np.dtype([(\"quint8\", np.uint8, 1)])\n",
      "E:\\Miniconda3\\envs\\deeplearning\\lib\\site-packages\\tensorflow\\python\\framework\\dtypes.py:518: FutureWarning: Passing (type, 1) or '1type' as a synonym of type is deprecated; in a future version of numpy, it will be understood as (type, (1,)) / '(1,)type'.\n",
      "  _np_qint16 = np.dtype([(\"qint16\", np.int16, 1)])\n",
      "E:\\Miniconda3\\envs\\deeplearning\\lib\\site-packages\\tensorflow\\python\\framework\\dtypes.py:519: FutureWarning: Passing (type, 1) or '1type' as a synonym of type is deprecated; in a future version of numpy, it will be understood as (type, (1,)) / '(1,)type'.\n",
      "  _np_quint16 = np.dtype([(\"quint16\", np.uint16, 1)])\n",
      "E:\\Miniconda3\\envs\\deeplearning\\lib\\site-packages\\tensorflow\\python\\framework\\dtypes.py:520: FutureWarning: Passing (type, 1) or '1type' as a synonym of type is deprecated; in a future version of numpy, it will be understood as (type, (1,)) / '(1,)type'.\n",
      "  _np_qint32 = np.dtype([(\"qint32\", np.int32, 1)])\n",
      "E:\\Miniconda3\\envs\\deeplearning\\lib\\site-packages\\tensorflow\\python\\framework\\dtypes.py:525: FutureWarning: Passing (type, 1) or '1type' as a synonym of type is deprecated; in a future version of numpy, it will be understood as (type, (1,)) / '(1,)type'.\n",
      "  np_resource = np.dtype([(\"resource\", np.ubyte, 1)])\n",
      "E:\\Miniconda3\\envs\\deeplearning\\lib\\importlib\\_bootstrap.py:219: RuntimeWarning: numpy.ufunc size changed, may indicate binary incompatibility. Expected 192 from C header, got 216 from PyObject\n",
      "  return f(*args, **kwds)\n",
      "E:\\Miniconda3\\envs\\deeplearning\\lib\\importlib\\_bootstrap.py:219: RuntimeWarning: numpy.ufunc size changed, may indicate binary incompatibility. Expected 192 from C header, got 216 from PyObject\n",
      "  return f(*args, **kwds)\n",
      "E:\\Miniconda3\\envs\\deeplearning\\lib\\site-packages\\tensorboard\\compat\\tensorflow_stub\\dtypes.py:541: FutureWarning: Passing (type, 1) or '1type' as a synonym of type is deprecated; in a future version of numpy, it will be understood as (type, (1,)) / '(1,)type'.\n",
      "  _np_qint8 = np.dtype([(\"qint8\", np.int8, 1)])\n",
      "E:\\Miniconda3\\envs\\deeplearning\\lib\\site-packages\\tensorboard\\compat\\tensorflow_stub\\dtypes.py:542: FutureWarning: Passing (type, 1) or '1type' as a synonym of type is deprecated; in a future version of numpy, it will be understood as (type, (1,)) / '(1,)type'.\n",
      "  _np_quint8 = np.dtype([(\"quint8\", np.uint8, 1)])\n",
      "E:\\Miniconda3\\envs\\deeplearning\\lib\\site-packages\\tensorboard\\compat\\tensorflow_stub\\dtypes.py:543: FutureWarning: Passing (type, 1) or '1type' as a synonym of type is deprecated; in a future version of numpy, it will be understood as (type, (1,)) / '(1,)type'.\n",
      "  _np_qint16 = np.dtype([(\"qint16\", np.int16, 1)])\n",
      "E:\\Miniconda3\\envs\\deeplearning\\lib\\site-packages\\tensorboard\\compat\\tensorflow_stub\\dtypes.py:544: FutureWarning: Passing (type, 1) or '1type' as a synonym of type is deprecated; in a future version of numpy, it will be understood as (type, (1,)) / '(1,)type'.\n",
      "  _np_quint16 = np.dtype([(\"quint16\", np.uint16, 1)])\n",
      "E:\\Miniconda3\\envs\\deeplearning\\lib\\site-packages\\tensorboard\\compat\\tensorflow_stub\\dtypes.py:545: FutureWarning: Passing (type, 1) or '1type' as a synonym of type is deprecated; in a future version of numpy, it will be understood as (type, (1,)) / '(1,)type'.\n",
      "  _np_qint32 = np.dtype([(\"qint32\", np.int32, 1)])\n",
      "E:\\Miniconda3\\envs\\deeplearning\\lib\\site-packages\\tensorboard\\compat\\tensorflow_stub\\dtypes.py:550: FutureWarning: Passing (type, 1) or '1type' as a synonym of type is deprecated; in a future version of numpy, it will be understood as (type, (1,)) / '(1,)type'.\n",
      "  np_resource = np.dtype([(\"resource\", np.ubyte, 1)])\n"
     ]
    }
   ],
   "source": [
    "import numpy as np\n",
    "from keras.datasets import mnist\n",
    "from keras.models import Sequential\n",
    "from keras.layers.core import Dense, Activation\n",
    "from keras.optimizers import SGD\n",
    "from keras.utils import np_utils\n",
    "np.random.seed(1671)"
   ]
  },
  {
   "cell_type": "code",
   "execution_count": 5,
   "metadata": {},
   "outputs": [
    {
     "name": "stdout",
     "output_type": "stream",
     "text": [
      "Downloading data from https://s3.amazonaws.com/img-datasets/mnist.npz\n",
      "11493376/11490434 [==============================] - 10s 1us/step\n"
     ]
    }
   ],
   "source": [
    "(X_train, y_train), (X_test, y_test) = mnist.load_data()"
   ]
  },
  {
   "cell_type": "code",
   "execution_count": 6,
   "metadata": {},
   "outputs": [
    {
     "data": {
      "text/plain": [
       "(60000, 28, 28)"
      ]
     },
     "execution_count": 6,
     "metadata": {},
     "output_type": "execute_result"
    }
   ],
   "source": [
    "X_train.shape"
   ]
  },
  {
   "cell_type": "code",
   "execution_count": 7,
   "metadata": {},
   "outputs": [],
   "source": [
    "NP_EPOCH = 200\n",
    "BATCH_SIZE = 128\n",
    "VERBOSE = 1\n",
    "NB_CLASSES = 10 #the no. of neurons in the final layer (multiclass classsification)\n",
    "OPTIMIZER = SGD() \n",
    "N_HIDDEN = 128\n",
    "VALIDATION_SPLIT = 0.2\n",
    "RESHAPED = 784"
   ]
  },
  {
   "cell_type": "code",
   "execution_count": 9,
   "metadata": {},
   "outputs": [],
   "source": [
    "#reshaping the 28x28 to 784\n",
    "X_train = X_train.reshape(60000, RESHAPED)\n",
    "X_test = X_test.reshape(10000, RESHAPED)\n",
    "X_train = X_train.astype(\"float32\")\n",
    "X_test = X_test.astype(\"float32\")"
   ]
  },
  {
   "cell_type": "code",
   "execution_count": 10,
   "metadata": {},
   "outputs": [],
   "source": [
    "#normalizing\n",
    "X_train /= 255\n",
    "X_test /= 255"
   ]
  },
  {
   "cell_type": "code",
   "execution_count": 12,
   "metadata": {},
   "outputs": [
    {
     "name": "stdout",
     "output_type": "stream",
     "text": [
      "training examples:  60000\n",
      "testing examples:  10000\n"
     ]
    }
   ],
   "source": [
    "print(\"training examples: \", str(X_train.shape[0]))\n",
    "print(\"testing examples: \", str(X_test.shape[0]))"
   ]
  },
  {
   "cell_type": "code",
   "execution_count": 17,
   "metadata": {},
   "outputs": [],
   "source": [
    "#convert class vectors to binary class matrices\n",
    "y_train = np_utils.to_categorical(y_train, NB_CLASSES)\n",
    "y_test = np_utils.to_categorical(y_test, NB_CLASSES)"
   ]
  },
  {
   "cell_type": "code",
   "execution_count": 18,
   "metadata": {},
   "outputs": [
    {
     "name": "stdout",
     "output_type": "stream",
     "text": [
      "WARNING:tensorflow:From E:\\Miniconda3\\envs\\deeplearning\\lib\\site-packages\\keras\\backend\\tensorflow_backend.py:63: The name tf.get_default_graph is deprecated. Please use tf.compat.v1.get_default_graph instead.\n",
      "\n",
      "WARNING:tensorflow:From E:\\Miniconda3\\envs\\deeplearning\\lib\\site-packages\\keras\\backend\\tensorflow_backend.py:492: The name tf.placeholder is deprecated. Please use tf.compat.v1.placeholder instead.\n",
      "\n",
      "WARNING:tensorflow:From E:\\Miniconda3\\envs\\deeplearning\\lib\\site-packages\\keras\\backend\\tensorflow_backend.py:3630: The name tf.random_uniform is deprecated. Please use tf.random.uniform instead.\n",
      "\n",
      "_________________________________________________________________\n",
      "Layer (type)                 Output Shape              Param #   \n",
      "=================================================================\n",
      "dense_1 (Dense)              (None, 10)                7850      \n",
      "_________________________________________________________________\n",
      "activation_1 (Activation)    (None, 10)                0         \n",
      "=================================================================\n",
      "Total params: 7,850\n",
      "Trainable params: 7,850\n",
      "Non-trainable params: 0\n",
      "_________________________________________________________________\n"
     ]
    }
   ],
   "source": [
    "#input layer will have 28x28 = 784 neurons\n",
    "# there will be 10 neurons in the output layer representing the 10 numbers\n",
    "#softmax function is used for multiclass classification\n",
    "#softmax squashes the values in range(0,1)\n",
    "model = Sequential()\n",
    "model.add(Dense(NB_CLASSES, input_shape=(RESHAPED,)))\n",
    "model.add(Activation(\"softmax\"))\n",
    "model.summary()"
   ]
  },
  {
   "cell_type": "code",
   "execution_count": 19,
   "metadata": {},
   "outputs": [
    {
     "name": "stdout",
     "output_type": "stream",
     "text": [
      "WARNING:tensorflow:From E:\\Miniconda3\\envs\\deeplearning\\lib\\site-packages\\keras\\optimizers.py:711: The name tf.train.Optimizer is deprecated. Please use tf.compat.v1.train.Optimizer instead.\n",
      "\n",
      "WARNING:tensorflow:From E:\\Miniconda3\\envs\\deeplearning\\lib\\site-packages\\keras\\backend\\tensorflow_backend.py:2880: calling reduce_sum_v1 (from tensorflow.python.ops.math_ops) with keep_dims is deprecated and will be removed in a future version.\n",
      "Instructions for updating:\n",
      "keep_dims is deprecated, use keepdims instead\n",
      "WARNING:tensorflow:From E:\\Miniconda3\\envs\\deeplearning\\lib\\site-packages\\keras\\backend\\tensorflow_backend.py:2884: The name tf.log is deprecated. Please use tf.math.log instead.\n",
      "\n"
     ]
    }
   ],
   "source": [
    "#categorical_crossentropy is  the multiclass logarithmic loss\n",
    "model.compile(loss=\"categorical_crossentropy\", optimizer=OPTIMIZER, metrics=[\"accuracy\"])"
   ]
  },
  {
   "cell_type": "code",
   "execution_count": 20,
   "metadata": {},
   "outputs": [
    {
     "name": "stdout",
     "output_type": "stream",
     "text": [
      "WARNING:tensorflow:From E:\\Miniconda3\\envs\\deeplearning\\lib\\site-packages\\tensorflow\\python\\ops\\math_grad.py:1250: add_dispatch_support.<locals>.wrapper (from tensorflow.python.ops.array_ops) is deprecated and will be removed in a future version.\n",
      "Instructions for updating:\n",
      "Use tf.where in 2.0, which has the same broadcast rule as np.where\n",
      "WARNING:tensorflow:From E:\\Miniconda3\\envs\\deeplearning\\lib\\site-packages\\keras\\backend\\tensorflow_backend.py:953: The name tf.assign_add is deprecated. Please use tf.compat.v1.assign_add instead.\n",
      "\n",
      "WARNING:tensorflow:From E:\\Miniconda3\\envs\\deeplearning\\lib\\site-packages\\keras\\backend\\tensorflow_backend.py:675: calling Constant.__init__ (from tensorflow.python.ops.init_ops) with dtype is deprecated and will be removed in a future version.\n",
      "Instructions for updating:\n",
      "Call initializer instance with the dtype argument instead of passing it to the constructor\n",
      "Train on 48000 samples, validate on 12000 samples\n",
      "Epoch 1/200\n",
      "48000/48000 [==============================] - 2s 46us/step - loss: 1.3633 - acc: 0.6796 - val_loss: 0.8904 - val_acc: 0.8246\n",
      "Epoch 2/200\n",
      "48000/48000 [==============================] - 1s 24us/step - loss: 0.7913 - acc: 0.8272 - val_loss: 0.6572 - val_acc: 0.8546\n",
      "Epoch 3/200\n",
      "48000/48000 [==============================] - 1s 23us/step - loss: 0.6436 - acc: 0.8497 - val_loss: 0.5625 - val_acc: 0.8681\n",
      "Epoch 4/200\n",
      "48000/48000 [==============================] - 1s 24us/step - loss: 0.5717 - acc: 0.8602 - val_loss: 0.5098 - val_acc: 0.8765\n",
      "Epoch 5/200\n",
      "48000/48000 [==============================] - 1s 26us/step - loss: 0.5276 - acc: 0.8678 - val_loss: 0.4758 - val_acc: 0.8826\n",
      "Epoch 6/200\n",
      "48000/48000 [==============================] - 1s 25us/step - loss: 0.4973 - acc: 0.8726 - val_loss: 0.4515 - val_acc: 0.8866\n",
      "Epoch 7/200\n",
      "48000/48000 [==============================] - 1s 23us/step - loss: 0.4748 - acc: 0.8775 - val_loss: 0.4333 - val_acc: 0.8882\n",
      "Epoch 8/200\n",
      "48000/48000 [==============================] - 1s 24us/step - loss: 0.4574 - acc: 0.8803 - val_loss: 0.4189 - val_acc: 0.8920\n",
      "Epoch 9/200\n",
      "48000/48000 [==============================] - 1s 26us/step - loss: 0.4433 - acc: 0.8834 - val_loss: 0.4075 - val_acc: 0.8939\n",
      "Epoch 10/200\n",
      "48000/48000 [==============================] - 1s 25us/step - loss: 0.4317 - acc: 0.8850 - val_loss: 0.3977 - val_acc: 0.8966\n",
      "Epoch 11/200\n",
      "48000/48000 [==============================] - 1s 26us/step - loss: 0.4218 - acc: 0.8873 - val_loss: 0.3896 - val_acc: 0.8984\n",
      "Epoch 12/200\n",
      "48000/48000 [==============================] - 1s 28us/step - loss: 0.4134 - acc: 0.8888 - val_loss: 0.3827 - val_acc: 0.8995\n",
      "Epoch 13/200\n",
      "48000/48000 [==============================] - 1s 26us/step - loss: 0.4060 - acc: 0.8902 - val_loss: 0.3766 - val_acc: 0.9003\n",
      "Epoch 14/200\n",
      "48000/48000 [==============================] - 1s 27us/step - loss: 0.3995 - acc: 0.8918 - val_loss: 0.3712 - val_acc: 0.9013\n",
      "Epoch 15/200\n",
      "48000/48000 [==============================] - 1s 28us/step - loss: 0.3936 - acc: 0.8928 - val_loss: 0.3664 - val_acc: 0.9016\n",
      "Epoch 16/200\n",
      "48000/48000 [==============================] - 1s 27us/step - loss: 0.3884 - acc: 0.8945 - val_loss: 0.3621 - val_acc: 0.9031\n",
      "Epoch 17/200\n",
      "48000/48000 [==============================] - 1s 27us/step - loss: 0.3837 - acc: 0.8950 - val_loss: 0.3582 - val_acc: 0.9033\n",
      "Epoch 18/200\n",
      "48000/48000 [==============================] - 1s 23us/step - loss: 0.3794 - acc: 0.8962 - val_loss: 0.3546 - val_acc: 0.9039\n",
      "Epoch 19/200\n",
      "48000/48000 [==============================] - 1s 23us/step - loss: 0.3755 - acc: 0.8970 - val_loss: 0.3514 - val_acc: 0.9048\n",
      "Epoch 20/200\n",
      "48000/48000 [==============================] - 1s 23us/step - loss: 0.3718 - acc: 0.8979 - val_loss: 0.3485 - val_acc: 0.9053\n",
      "Epoch 21/200\n",
      "48000/48000 [==============================] - 1s 26us/step - loss: 0.3685 - acc: 0.8985 - val_loss: 0.3457 - val_acc: 0.9058\n",
      "Epoch 22/200\n",
      "48000/48000 [==============================] - 1s 23us/step - loss: 0.3653 - acc: 0.8995 - val_loss: 0.3431 - val_acc: 0.9058\n",
      "Epoch 23/200\n",
      "48000/48000 [==============================] - 1s 23us/step - loss: 0.3625 - acc: 0.8999 - val_loss: 0.3407 - val_acc: 0.9063\n",
      "Epoch 24/200\n",
      "48000/48000 [==============================] - 1s 25us/step - loss: 0.3598 - acc: 0.9008 - val_loss: 0.3385 - val_acc: 0.9070\n",
      "Epoch 25/200\n",
      "48000/48000 [==============================] - 2s 32us/step - loss: 0.3572 - acc: 0.9012 - val_loss: 0.3364 - val_acc: 0.9074\n",
      "Epoch 26/200\n",
      "48000/48000 [==============================] - 1s 25us/step - loss: 0.3548 - acc: 0.9019 - val_loss: 0.3345 - val_acc: 0.9084\n",
      "Epoch 27/200\n",
      "48000/48000 [==============================] - 1s 27us/step - loss: 0.3525 - acc: 0.9022 - val_loss: 0.3326 - val_acc: 0.9082\n",
      "Epoch 28/200\n",
      "48000/48000 [==============================] - 1s 26us/step - loss: 0.3504 - acc: 0.9032 - val_loss: 0.3311 - val_acc: 0.9090\n",
      "Epoch 29/200\n",
      "48000/48000 [==============================] - 1s 25us/step - loss: 0.3484 - acc: 0.9031 - val_loss: 0.3293 - val_acc: 0.9094\n",
      "Epoch 30/200\n",
      "48000/48000 [==============================] - 1s 23us/step - loss: 0.3465 - acc: 0.9041 - val_loss: 0.3277 - val_acc: 0.9097\n",
      "Epoch 31/200\n",
      "48000/48000 [==============================] - 1s 28us/step - loss: 0.3447 - acc: 0.9044 - val_loss: 0.3264 - val_acc: 0.9097\n",
      "Epoch 32/200\n",
      "48000/48000 [==============================] - 1s 25us/step - loss: 0.3430 - acc: 0.9047 - val_loss: 0.3249 - val_acc: 0.9097\n",
      "Epoch 33/200\n",
      "48000/48000 [==============================] - 1s 26us/step - loss: 0.3413 - acc: 0.9051 - val_loss: 0.3235 - val_acc: 0.9103\n",
      "Epoch 34/200\n",
      "48000/48000 [==============================] - 2s 32us/step - loss: 0.3397 - acc: 0.9056 - val_loss: 0.3222 - val_acc: 0.9104\n",
      "Epoch 35/200\n",
      "48000/48000 [==============================] - 1s 24us/step - loss: 0.3382 - acc: 0.9058 - val_loss: 0.3211 - val_acc: 0.9110\n",
      "Epoch 36/200\n",
      "48000/48000 [==============================] - 1s 26us/step - loss: 0.3368 - acc: 0.9062 - val_loss: 0.3198 - val_acc: 0.9110\n",
      "Epoch 37/200\n",
      "48000/48000 [==============================] - 1s 23us/step - loss: 0.3353 - acc: 0.9069 - val_loss: 0.3187 - val_acc: 0.9117\n",
      "Epoch 38/200\n",
      "48000/48000 [==============================] - 1s 24us/step - loss: 0.3340 - acc: 0.9075 - val_loss: 0.3177 - val_acc: 0.9120\n",
      "Epoch 39/200\n",
      "48000/48000 [==============================] - 1s 24us/step - loss: 0.3327 - acc: 0.9075 - val_loss: 0.3166 - val_acc: 0.9122\n",
      "Epoch 40/200\n",
      "48000/48000 [==============================] - 1s 25us/step - loss: 0.3314 - acc: 0.9078 - val_loss: 0.3159 - val_acc: 0.9118\n",
      "Epoch 41/200\n",
      "48000/48000 [==============================] - 1s 24us/step - loss: 0.3303 - acc: 0.9080 - val_loss: 0.3147 - val_acc: 0.9127\n",
      "Epoch 42/200\n",
      "48000/48000 [==============================] - 1s 25us/step - loss: 0.3291 - acc: 0.9084 - val_loss: 0.3138 - val_acc: 0.9132\n",
      "Epoch 43/200\n",
      "48000/48000 [==============================] - 1s 24us/step - loss: 0.3280 - acc: 0.9089 - val_loss: 0.3130 - val_acc: 0.9132\n",
      "Epoch 44/200\n",
      "48000/48000 [==============================] - 1s 25us/step - loss: 0.3270 - acc: 0.9091 - val_loss: 0.3121 - val_acc: 0.9132\n",
      "Epoch 45/200\n",
      "48000/48000 [==============================] - 1s 28us/step - loss: 0.3259 - acc: 0.9093 - val_loss: 0.3113 - val_acc: 0.9135\n",
      "Epoch 46/200\n",
      "48000/48000 [==============================] - 1s 25us/step - loss: 0.3249 - acc: 0.9095 - val_loss: 0.3105 - val_acc: 0.9137\n",
      "Epoch 47/200\n",
      "48000/48000 [==============================] - 1s 25us/step - loss: 0.3239 - acc: 0.9105 - val_loss: 0.3098 - val_acc: 0.9141\n",
      "Epoch 48/200\n",
      "48000/48000 [==============================] - 1s 23us/step - loss: 0.3230 - acc: 0.9105 - val_loss: 0.3090 - val_acc: 0.9146\n",
      "Epoch 49/200\n",
      "48000/48000 [==============================] - 1s 26us/step - loss: 0.3221 - acc: 0.9102 - val_loss: 0.3083 - val_acc: 0.9151\n",
      "Epoch 50/200\n",
      "48000/48000 [==============================] - 1s 25us/step - loss: 0.3212 - acc: 0.9109 - val_loss: 0.3075 - val_acc: 0.9150\n",
      "Epoch 51/200\n",
      "48000/48000 [==============================] - 1s 26us/step - loss: 0.3204 - acc: 0.9109 - val_loss: 0.3070 - val_acc: 0.9150\n",
      "Epoch 52/200\n",
      "48000/48000 [==============================] - 2s 32us/step - loss: 0.3195 - acc: 0.9112 - val_loss: 0.3063 - val_acc: 0.9148\n",
      "Epoch 53/200\n"
     ]
    },
    {
     "name": "stdout",
     "output_type": "stream",
     "text": [
      "48000/48000 [==============================] - 1s 25us/step - loss: 0.3187 - acc: 0.9114 - val_loss: 0.3057 - val_acc: 0.9153\n",
      "Epoch 54/200\n",
      "48000/48000 [==============================] - 1s 24us/step - loss: 0.3180 - acc: 0.9117 - val_loss: 0.3050 - val_acc: 0.9148\n",
      "Epoch 55/200\n",
      "48000/48000 [==============================] - 1s 27us/step - loss: 0.3171 - acc: 0.9121 - val_loss: 0.3044 - val_acc: 0.9149\n",
      "Epoch 56/200\n",
      "48000/48000 [==============================] - 1s 25us/step - loss: 0.3164 - acc: 0.9121 - val_loss: 0.3037 - val_acc: 0.9156\n",
      "Epoch 57/200\n",
      "48000/48000 [==============================] - 1s 29us/step - loss: 0.3157 - acc: 0.9128 - val_loss: 0.3034 - val_acc: 0.9152\n",
      "Epoch 58/200\n",
      "48000/48000 [==============================] - 1s 23us/step - loss: 0.3149 - acc: 0.9121 - val_loss: 0.3029 - val_acc: 0.9148\n",
      "Epoch 59/200\n",
      "48000/48000 [==============================] - 1s 23us/step - loss: 0.3143 - acc: 0.9128 - val_loss: 0.3022 - val_acc: 0.9151\n",
      "Epoch 60/200\n",
      "48000/48000 [==============================] - 1s 29us/step - loss: 0.3136 - acc: 0.9129 - val_loss: 0.3016 - val_acc: 0.9161\n",
      "Epoch 61/200\n",
      "48000/48000 [==============================] - 1s 22us/step - loss: 0.3130 - acc: 0.9133 - val_loss: 0.3011 - val_acc: 0.9158\n",
      "Epoch 62/200\n",
      "48000/48000 [==============================] - 1s 24us/step - loss: 0.3123 - acc: 0.9131 - val_loss: 0.3007 - val_acc: 0.9151\n",
      "Epoch 63/200\n",
      "48000/48000 [==============================] - 1s 29us/step - loss: 0.3117 - acc: 0.9136 - val_loss: 0.3003 - val_acc: 0.9156\n",
      "Epoch 64/200\n",
      "48000/48000 [==============================] - 1s 23us/step - loss: 0.3110 - acc: 0.9137 - val_loss: 0.2997 - val_acc: 0.9158\n",
      "Epoch 65/200\n",
      "48000/48000 [==============================] - 1s 29us/step - loss: 0.3105 - acc: 0.9137 - val_loss: 0.2992 - val_acc: 0.9159\n",
      "Epoch 66/200\n",
      "48000/48000 [==============================] - 1s 24us/step - loss: 0.3098 - acc: 0.9138 - val_loss: 0.2988 - val_acc: 0.9161\n",
      "Epoch 67/200\n",
      "48000/48000 [==============================] - 1s 20us/step - loss: 0.3093 - acc: 0.9141 - val_loss: 0.2983 - val_acc: 0.9165\n",
      "Epoch 68/200\n",
      "48000/48000 [==============================] - 1s 19us/step - loss: 0.3087 - acc: 0.9139 - val_loss: 0.2979 - val_acc: 0.9166\n",
      "Epoch 69/200\n",
      "48000/48000 [==============================] - 1s 19us/step - loss: 0.3082 - acc: 0.9144 - val_loss: 0.2976 - val_acc: 0.9164\n",
      "Epoch 70/200\n",
      "48000/48000 [==============================] - 1s 20us/step - loss: 0.3077 - acc: 0.9145 - val_loss: 0.2971 - val_acc: 0.9166\n",
      "Epoch 71/200\n",
      "48000/48000 [==============================] - 1s 19us/step - loss: 0.3071 - acc: 0.9146 - val_loss: 0.2967 - val_acc: 0.9172\n",
      "Epoch 72/200\n",
      "48000/48000 [==============================] - 1s 20us/step - loss: 0.3066 - acc: 0.9147 - val_loss: 0.2964 - val_acc: 0.9167\n",
      "Epoch 73/200\n",
      "48000/48000 [==============================] - 1s 20us/step - loss: 0.3061 - acc: 0.9151 - val_loss: 0.2960 - val_acc: 0.9169\n",
      "Epoch 74/200\n",
      "48000/48000 [==============================] - 1s 20us/step - loss: 0.3056 - acc: 0.9150 - val_loss: 0.2956 - val_acc: 0.9173\n",
      "Epoch 75/200\n",
      "48000/48000 [==============================] - 1s 19us/step - loss: 0.3051 - acc: 0.9151 - val_loss: 0.2952 - val_acc: 0.9177\n",
      "Epoch 76/200\n",
      "48000/48000 [==============================] - 1s 19us/step - loss: 0.3046 - acc: 0.9152 - val_loss: 0.2950 - val_acc: 0.9173\n",
      "Epoch 77/200\n",
      "48000/48000 [==============================] - 1s 19us/step - loss: 0.3042 - acc: 0.9154 - val_loss: 0.2945 - val_acc: 0.9172\n",
      "Epoch 78/200\n",
      "48000/48000 [==============================] - 1s 20us/step - loss: 0.3037 - acc: 0.9154 - val_loss: 0.2942 - val_acc: 0.9176\n",
      "Epoch 79/200\n",
      "48000/48000 [==============================] - 1s 20us/step - loss: 0.3032 - acc: 0.9157 - val_loss: 0.2939 - val_acc: 0.9179\n",
      "Epoch 80/200\n",
      "48000/48000 [==============================] - 1s 19us/step - loss: 0.3028 - acc: 0.9156 - val_loss: 0.2936 - val_acc: 0.9177\n",
      "Epoch 81/200\n",
      "48000/48000 [==============================] - 1s 22us/step - loss: 0.3024 - acc: 0.9157 - val_loss: 0.2933 - val_acc: 0.9179\n",
      "Epoch 82/200\n",
      "48000/48000 [==============================] - 1s 21us/step - loss: 0.3019 - acc: 0.9157 - val_loss: 0.2930 - val_acc: 0.9178\n",
      "Epoch 83/200\n",
      "48000/48000 [==============================] - 1s 21us/step - loss: 0.3015 - acc: 0.9160 - val_loss: 0.2926 - val_acc: 0.9182\n",
      "Epoch 84/200\n",
      "48000/48000 [==============================] - 1s 22us/step - loss: 0.3011 - acc: 0.9161 - val_loss: 0.2924 - val_acc: 0.9179\n",
      "Epoch 85/200\n",
      "48000/48000 [==============================] - 1s 21us/step - loss: 0.3007 - acc: 0.9165 - val_loss: 0.2920 - val_acc: 0.9184\n",
      "Epoch 86/200\n",
      "48000/48000 [==============================] - 1s 21us/step - loss: 0.3003 - acc: 0.9164 - val_loss: 0.2918 - val_acc: 0.9185\n",
      "Epoch 87/200\n",
      "48000/48000 [==============================] - 1s 19us/step - loss: 0.2999 - acc: 0.9165 - val_loss: 0.2914 - val_acc: 0.9185\n",
      "Epoch 88/200\n",
      "48000/48000 [==============================] - 1s 19us/step - loss: 0.2995 - acc: 0.9166 - val_loss: 0.2911 - val_acc: 0.9188\n",
      "Epoch 89/200\n",
      "48000/48000 [==============================] - 1s 20us/step - loss: 0.2991 - acc: 0.9167 - val_loss: 0.2909 - val_acc: 0.9191\n",
      "Epoch 90/200\n",
      "48000/48000 [==============================] - 1s 19us/step - loss: 0.2988 - acc: 0.9169 - val_loss: 0.2906 - val_acc: 0.9191\n",
      "Epoch 91/200\n",
      "48000/48000 [==============================] - 1s 20us/step - loss: 0.2984 - acc: 0.9168 - val_loss: 0.2903 - val_acc: 0.9192\n",
      "Epoch 92/200\n",
      "48000/48000 [==============================] - 1s 19us/step - loss: 0.2981 - acc: 0.9170 - val_loss: 0.2901 - val_acc: 0.9196\n",
      "Epoch 93/200\n",
      "48000/48000 [==============================] - 1s 23us/step - loss: 0.2977 - acc: 0.9171 - val_loss: 0.2898 - val_acc: 0.9195\n",
      "Epoch 94/200\n",
      "48000/48000 [==============================] - 1s 21us/step - loss: 0.2973 - acc: 0.9172 - val_loss: 0.2895 - val_acc: 0.9196\n",
      "Epoch 95/200\n",
      "48000/48000 [==============================] - 1s 20us/step - loss: 0.2970 - acc: 0.9174 - val_loss: 0.2894 - val_acc: 0.9196\n",
      "Epoch 96/200\n",
      "48000/48000 [==============================] - 1s 20us/step - loss: 0.2967 - acc: 0.9174 - val_loss: 0.2891 - val_acc: 0.9198\n",
      "Epoch 97/200\n",
      "48000/48000 [==============================] - 1s 19us/step - loss: 0.2963 - acc: 0.9176 - val_loss: 0.2889 - val_acc: 0.9197\n",
      "Epoch 98/200\n",
      "48000/48000 [==============================] - ETA: 0s - loss: 0.2942 - acc: 0.917 - 1s 20us/step - loss: 0.2960 - acc: 0.9174 - val_loss: 0.2886 - val_acc: 0.9202\n",
      "Epoch 99/200\n",
      "48000/48000 [==============================] - 1s 20us/step - loss: 0.2957 - acc: 0.9176 - val_loss: 0.2884 - val_acc: 0.9202\n",
      "Epoch 100/200\n",
      "48000/48000 [==============================] - 1s 20us/step - loss: 0.2953 - acc: 0.9178 - val_loss: 0.2882 - val_acc: 0.9200\n",
      "Epoch 101/200\n",
      "48000/48000 [==============================] - 1s 20us/step - loss: 0.2950 - acc: 0.9179 - val_loss: 0.2879 - val_acc: 0.9201\n",
      "Epoch 102/200\n",
      "48000/48000 [==============================] - 1s 20us/step - loss: 0.2947 - acc: 0.9180 - val_loss: 0.2877 - val_acc: 0.9204\n",
      "Epoch 103/200\n",
      "48000/48000 [==============================] - 1s 20us/step - loss: 0.2944 - acc: 0.9180 - val_loss: 0.2875 - val_acc: 0.9202\n",
      "Epoch 104/200\n",
      "48000/48000 [==============================] - 1s 20us/step - loss: 0.2941 - acc: 0.9184 - val_loss: 0.2873 - val_acc: 0.9202\n",
      "Epoch 105/200\n",
      "48000/48000 [==============================] - 1s 20us/step - loss: 0.2938 - acc: 0.9183 - val_loss: 0.2871 - val_acc: 0.9206\n",
      "Epoch 106/200\n",
      "48000/48000 [==============================] - 1s 20us/step - loss: 0.2935 - acc: 0.9183 - val_loss: 0.2868 - val_acc: 0.9202\n",
      "Epoch 107/200\n",
      "48000/48000 [==============================] - 1s 20us/step - loss: 0.2932 - acc: 0.9186 - val_loss: 0.2867 - val_acc: 0.9206\n",
      "Epoch 108/200\n",
      "48000/48000 [==============================] - 1s 19us/step - loss: 0.2929 - acc: 0.9185 - val_loss: 0.2864 - val_acc: 0.9208\n",
      "Epoch 109/200\n",
      "48000/48000 [==============================] - 1s 20us/step - loss: 0.2927 - acc: 0.9185 - val_loss: 0.2863 - val_acc: 0.9206\n",
      "Epoch 110/200\n",
      "48000/48000 [==============================] - 1s 20us/step - loss: 0.2923 - acc: 0.9187 - val_loss: 0.2860 - val_acc: 0.9204\n",
      "Epoch 111/200\n"
     ]
    },
    {
     "name": "stdout",
     "output_type": "stream",
     "text": [
      "48000/48000 [==============================] - 1s 19us/step - loss: 0.2921 - acc: 0.9184 - val_loss: 0.2858 - val_acc: 0.9210\n",
      "Epoch 112/200\n",
      "48000/48000 [==============================] - 1s 20us/step - loss: 0.2918 - acc: 0.9187 - val_loss: 0.2857 - val_acc: 0.9207\n",
      "Epoch 113/200\n",
      "48000/48000 [==============================] - 1s 21us/step - loss: 0.2915 - acc: 0.9189 - val_loss: 0.2854 - val_acc: 0.9210\n",
      "Epoch 114/200\n",
      "48000/48000 [==============================] - 1s 20us/step - loss: 0.2913 - acc: 0.9188 - val_loss: 0.2853 - val_acc: 0.9211\n",
      "Epoch 115/200\n",
      "48000/48000 [==============================] - 1s 20us/step - loss: 0.2910 - acc: 0.9189 - val_loss: 0.2852 - val_acc: 0.9205\n",
      "Epoch 116/200\n",
      "48000/48000 [==============================] - 1s 19us/step - loss: 0.2908 - acc: 0.9189 - val_loss: 0.2849 - val_acc: 0.9213\n",
      "Epoch 117/200\n",
      "48000/48000 [==============================] - 1s 19us/step - loss: 0.2905 - acc: 0.9193 - val_loss: 0.2847 - val_acc: 0.9213\n",
      "Epoch 118/200\n",
      "48000/48000 [==============================] - 1s 19us/step - loss: 0.2902 - acc: 0.9192 - val_loss: 0.2846 - val_acc: 0.9212\n",
      "Epoch 119/200\n",
      "48000/48000 [==============================] - 1s 20us/step - loss: 0.2900 - acc: 0.9191 - val_loss: 0.2844 - val_acc: 0.9212\n",
      "Epoch 120/200\n",
      "48000/48000 [==============================] - 1s 20us/step - loss: 0.2898 - acc: 0.9192 - val_loss: 0.2842 - val_acc: 0.9212\n",
      "Epoch 121/200\n",
      "48000/48000 [==============================] - 1s 19us/step - loss: 0.2895 - acc: 0.9191 - val_loss: 0.2841 - val_acc: 0.9212\n",
      "Epoch 122/200\n",
      "48000/48000 [==============================] - 1s 20us/step - loss: 0.2892 - acc: 0.9192 - val_loss: 0.2840 - val_acc: 0.9212\n",
      "Epoch 123/200\n",
      "48000/48000 [==============================] - 1s 20us/step - loss: 0.2890 - acc: 0.9194 - val_loss: 0.2838 - val_acc: 0.9211\n",
      "Epoch 124/200\n",
      "48000/48000 [==============================] - 1s 20us/step - loss: 0.2888 - acc: 0.9197 - val_loss: 0.2837 - val_acc: 0.9210\n",
      "Epoch 125/200\n",
      "48000/48000 [==============================] - 1s 20us/step - loss: 0.2885 - acc: 0.9193 - val_loss: 0.2835 - val_acc: 0.9207\n",
      "Epoch 126/200\n",
      "48000/48000 [==============================] - 1s 20us/step - loss: 0.2883 - acc: 0.9197 - val_loss: 0.2834 - val_acc: 0.9217\n",
      "Epoch 127/200\n",
      "48000/48000 [==============================] - 1s 20us/step - loss: 0.2881 - acc: 0.9194 - val_loss: 0.2832 - val_acc: 0.9212\n",
      "Epoch 128/200\n",
      "48000/48000 [==============================] - 1s 19us/step - loss: 0.2879 - acc: 0.9194 - val_loss: 0.2830 - val_acc: 0.9210\n",
      "Epoch 129/200\n",
      "48000/48000 [==============================] - 1s 22us/step - loss: 0.2876 - acc: 0.9196 - val_loss: 0.2828 - val_acc: 0.9217\n",
      "Epoch 130/200\n",
      "48000/48000 [==============================] - 1s 22us/step - loss: 0.2874 - acc: 0.9197 - val_loss: 0.2826 - val_acc: 0.9216\n",
      "Epoch 131/200\n",
      "48000/48000 [==============================] - 1s 19us/step - loss: 0.2871 - acc: 0.9200 - val_loss: 0.2827 - val_acc: 0.9211\n",
      "Epoch 132/200\n",
      "48000/48000 [==============================] - 1s 20us/step - loss: 0.2870 - acc: 0.9197 - val_loss: 0.2824 - val_acc: 0.9213\n",
      "Epoch 133/200\n",
      "48000/48000 [==============================] - 1s 19us/step - loss: 0.2868 - acc: 0.9198 - val_loss: 0.2823 - val_acc: 0.9216\n",
      "Epoch 134/200\n",
      "48000/48000 [==============================] - 1s 20us/step - loss: 0.2866 - acc: 0.9199 - val_loss: 0.2822 - val_acc: 0.9214\n",
      "Epoch 135/200\n",
      "48000/48000 [==============================] - 1s 21us/step - loss: 0.2863 - acc: 0.9203 - val_loss: 0.2820 - val_acc: 0.9213\n",
      "Epoch 136/200\n",
      "48000/48000 [==============================] - 1s 19us/step - loss: 0.2861 - acc: 0.9196 - val_loss: 0.2818 - val_acc: 0.9215\n",
      "Epoch 137/200\n",
      "48000/48000 [==============================] - 1s 19us/step - loss: 0.2859 - acc: 0.9198 - val_loss: 0.2818 - val_acc: 0.9217\n",
      "Epoch 138/200\n",
      "48000/48000 [==============================] - 1s 19us/step - loss: 0.2857 - acc: 0.9203 - val_loss: 0.2815 - val_acc: 0.9218\n",
      "Epoch 139/200\n",
      "48000/48000 [==============================] - 1s 20us/step - loss: 0.2855 - acc: 0.9203 - val_loss: 0.2814 - val_acc: 0.9215\n",
      "Epoch 140/200\n",
      "48000/48000 [==============================] - 1s 19us/step - loss: 0.2853 - acc: 0.9201 - val_loss: 0.2812 - val_acc: 0.9216\n",
      "Epoch 141/200\n",
      "48000/48000 [==============================] - 1s 20us/step - loss: 0.2852 - acc: 0.9204 - val_loss: 0.2811 - val_acc: 0.9217\n",
      "Epoch 142/200\n",
      "48000/48000 [==============================] - 1s 19us/step - loss: 0.2849 - acc: 0.9201 - val_loss: 0.2810 - val_acc: 0.9217\n",
      "Epoch 143/200\n",
      "48000/48000 [==============================] - 1s 20us/step - loss: 0.2848 - acc: 0.9205 - val_loss: 0.2809 - val_acc: 0.9219\n",
      "Epoch 144/200\n",
      "48000/48000 [==============================] - 1s 20us/step - loss: 0.2846 - acc: 0.9208 - val_loss: 0.2808 - val_acc: 0.9217\n",
      "Epoch 145/200\n",
      "48000/48000 [==============================] - 1s 20us/step - loss: 0.2844 - acc: 0.9207 - val_loss: 0.2806 - val_acc: 0.9221\n",
      "Epoch 146/200\n",
      "48000/48000 [==============================] - 1s 20us/step - loss: 0.2841 - acc: 0.9206 - val_loss: 0.2806 - val_acc: 0.9220\n",
      "Epoch 147/200\n",
      "48000/48000 [==============================] - 1s 20us/step - loss: 0.2840 - acc: 0.9207 - val_loss: 0.2804 - val_acc: 0.9217\n",
      "Epoch 148/200\n",
      "48000/48000 [==============================] - 1s 19us/step - loss: 0.2838 - acc: 0.9209 - val_loss: 0.2803 - val_acc: 0.9218\n",
      "Epoch 149/200\n",
      "48000/48000 [==============================] - 1s 20us/step - loss: 0.2836 - acc: 0.9208 - val_loss: 0.2802 - val_acc: 0.9216\n",
      "Epoch 150/200\n",
      "48000/48000 [==============================] - 1s 22us/step - loss: 0.2835 - acc: 0.9210 - val_loss: 0.2800 - val_acc: 0.9225\n",
      "Epoch 151/200\n",
      "48000/48000 [==============================] - 1s 21us/step - loss: 0.2833 - acc: 0.9210 - val_loss: 0.2799 - val_acc: 0.9226\n",
      "Epoch 152/200\n",
      "48000/48000 [==============================] - 1s 22us/step - loss: 0.2831 - acc: 0.9211 - val_loss: 0.2798 - val_acc: 0.9222\n",
      "Epoch 153/200\n",
      "48000/48000 [==============================] - 1s 21us/step - loss: 0.2829 - acc: 0.9207 - val_loss: 0.2797 - val_acc: 0.9224\n",
      "Epoch 154/200\n",
      "48000/48000 [==============================] - 1s 20us/step - loss: 0.2827 - acc: 0.9209 - val_loss: 0.2796 - val_acc: 0.9222\n",
      "Epoch 155/200\n",
      "48000/48000 [==============================] - 1s 20us/step - loss: 0.2826 - acc: 0.9208 - val_loss: 0.2795 - val_acc: 0.9225\n",
      "Epoch 156/200\n",
      "48000/48000 [==============================] - 1s 19us/step - loss: 0.2824 - acc: 0.9210 - val_loss: 0.2794 - val_acc: 0.9224\n",
      "Epoch 157/200\n",
      "48000/48000 [==============================] - 1s 19us/step - loss: 0.2822 - acc: 0.9210 - val_loss: 0.2793 - val_acc: 0.9224\n",
      "Epoch 158/200\n",
      "48000/48000 [==============================] - 1s 20us/step - loss: 0.2821 - acc: 0.9214 - val_loss: 0.2792 - val_acc: 0.9226\n",
      "Epoch 159/200\n",
      "48000/48000 [==============================] - 1s 19us/step - loss: 0.2819 - acc: 0.9214 - val_loss: 0.2791 - val_acc: 0.9226\n",
      "Epoch 160/200\n",
      "48000/48000 [==============================] - 1s 20us/step - loss: 0.2817 - acc: 0.9213 - val_loss: 0.2790 - val_acc: 0.9225\n",
      "Epoch 161/200\n",
      "48000/48000 [==============================] - 1s 20us/step - loss: 0.2816 - acc: 0.9214 - val_loss: 0.2789 - val_acc: 0.9222\n",
      "Epoch 162/200\n",
      "48000/48000 [==============================] - 1s 20us/step - loss: 0.2814 - acc: 0.9215 - val_loss: 0.2788 - val_acc: 0.9227\n",
      "Epoch 163/200\n",
      "48000/48000 [==============================] - 1s 19us/step - loss: 0.2812 - acc: 0.9213 - val_loss: 0.2787 - val_acc: 0.9225\n",
      "Epoch 164/200\n",
      "48000/48000 [==============================] - 1s 20us/step - loss: 0.2811 - acc: 0.9216 - val_loss: 0.2786 - val_acc: 0.9225\n",
      "Epoch 165/200\n",
      "48000/48000 [==============================] - 1s 19us/step - loss: 0.2809 - acc: 0.9215 - val_loss: 0.2785 - val_acc: 0.9227\n",
      "Epoch 166/200\n",
      "48000/48000 [==============================] - 1s 20us/step - loss: 0.2807 - acc: 0.9216 - val_loss: 0.2784 - val_acc: 0.9225\n",
      "Epoch 167/200\n",
      "48000/48000 [==============================] - 1s 20us/step - loss: 0.2806 - acc: 0.9217 - val_loss: 0.2784 - val_acc: 0.9227\n",
      "Epoch 168/200\n",
      "48000/48000 [==============================] - 1s 20us/step - loss: 0.2804 - acc: 0.9219 - val_loss: 0.2782 - val_acc: 0.9228\n",
      "Epoch 169/200\n"
     ]
    },
    {
     "name": "stdout",
     "output_type": "stream",
     "text": [
      "48000/48000 [==============================] - 1s 20us/step - loss: 0.2803 - acc: 0.9216 - val_loss: 0.2782 - val_acc: 0.9227\n",
      "Epoch 170/200\n",
      "48000/48000 [==============================] - ETA: 0s - loss: 0.2795 - acc: 0.921 - 1s 19us/step - loss: 0.2801 - acc: 0.9216 - val_loss: 0.2781 - val_acc: 0.9227\n",
      "Epoch 171/200\n",
      "48000/48000 [==============================] - 1s 20us/step - loss: 0.2800 - acc: 0.9220 - val_loss: 0.2780 - val_acc: 0.9226\n",
      "Epoch 172/200\n",
      "48000/48000 [==============================] - 1s 19us/step - loss: 0.2798 - acc: 0.9218 - val_loss: 0.2778 - val_acc: 0.9231\n",
      "Epoch 173/200\n",
      "48000/48000 [==============================] - 1s 19us/step - loss: 0.2797 - acc: 0.9217 - val_loss: 0.2778 - val_acc: 0.9229\n",
      "Epoch 174/200\n",
      "48000/48000 [==============================] - 1s 20us/step - loss: 0.2796 - acc: 0.9217 - val_loss: 0.2777 - val_acc: 0.9227\n",
      "Epoch 175/200\n",
      "48000/48000 [==============================] - 1s 19us/step - loss: 0.2794 - acc: 0.9218 - val_loss: 0.2776 - val_acc: 0.9232\n",
      "Epoch 176/200\n",
      "48000/48000 [==============================] - 1s 19us/step - loss: 0.2793 - acc: 0.9220 - val_loss: 0.2775 - val_acc: 0.9232\n",
      "Epoch 177/200\n",
      "48000/48000 [==============================] - 1s 20us/step - loss: 0.2791 - acc: 0.9219 - val_loss: 0.2774 - val_acc: 0.9234\n",
      "Epoch 178/200\n",
      "48000/48000 [==============================] - 1s 19us/step - loss: 0.2790 - acc: 0.9221 - val_loss: 0.2774 - val_acc: 0.9228\n",
      "Epoch 179/200\n",
      "48000/48000 [==============================] - 1s 19us/step - loss: 0.2788 - acc: 0.9221 - val_loss: 0.2773 - val_acc: 0.9232\n",
      "Epoch 180/200\n",
      "48000/48000 [==============================] - 1s 20us/step - loss: 0.2787 - acc: 0.9221 - val_loss: 0.2771 - val_acc: 0.9235\n",
      "Epoch 181/200\n",
      "48000/48000 [==============================] - 1s 20us/step - loss: 0.2785 - acc: 0.9223 - val_loss: 0.2770 - val_acc: 0.9232\n",
      "Epoch 182/200\n",
      "48000/48000 [==============================] - 1s 20us/step - loss: 0.2784 - acc: 0.9220 - val_loss: 0.2769 - val_acc: 0.9231\n",
      "Epoch 183/200\n",
      "48000/48000 [==============================] - 1s 20us/step - loss: 0.2783 - acc: 0.9223 - val_loss: 0.2769 - val_acc: 0.9231\n",
      "Epoch 184/200\n",
      "48000/48000 [==============================] - 1s 20us/step - loss: 0.2781 - acc: 0.9223 - val_loss: 0.2768 - val_acc: 0.9230\n",
      "Epoch 185/200\n",
      "48000/48000 [==============================] - 1s 20us/step - loss: 0.2780 - acc: 0.9224 - val_loss: 0.2767 - val_acc: 0.9233\n",
      "Epoch 186/200\n",
      "48000/48000 [==============================] - 1s 19us/step - loss: 0.2779 - acc: 0.9223 - val_loss: 0.2766 - val_acc: 0.9236\n",
      "Epoch 187/200\n",
      "48000/48000 [==============================] - 1s 20us/step - loss: 0.2777 - acc: 0.9224 - val_loss: 0.2766 - val_acc: 0.9233\n",
      "Epoch 188/200\n",
      "48000/48000 [==============================] - 1s 19us/step - loss: 0.2776 - acc: 0.9226 - val_loss: 0.2765 - val_acc: 0.9236\n",
      "Epoch 189/200\n",
      "48000/48000 [==============================] - 1s 19us/step - loss: 0.2775 - acc: 0.9225 - val_loss: 0.2764 - val_acc: 0.9235\n",
      "Epoch 190/200\n",
      "48000/48000 [==============================] - 1s 20us/step - loss: 0.2773 - acc: 0.9225 - val_loss: 0.2764 - val_acc: 0.9235\n",
      "Epoch 191/200\n",
      "48000/48000 [==============================] - 1s 19us/step - loss: 0.2772 - acc: 0.9225 - val_loss: 0.2763 - val_acc: 0.9237\n",
      "Epoch 192/200\n",
      "48000/48000 [==============================] - 1s 19us/step - loss: 0.2770 - acc: 0.9226 - val_loss: 0.2762 - val_acc: 0.9238\n",
      "Epoch 193/200\n",
      "48000/48000 [==============================] - 1s 19us/step - loss: 0.2770 - acc: 0.9226 - val_loss: 0.2761 - val_acc: 0.9237\n",
      "Epoch 194/200\n",
      "48000/48000 [==============================] - 1s 20us/step - loss: 0.2768 - acc: 0.9226 - val_loss: 0.2761 - val_acc: 0.9236\n",
      "Epoch 195/200\n",
      "48000/48000 [==============================] - 1s 19us/step - loss: 0.2767 - acc: 0.9231 - val_loss: 0.2760 - val_acc: 0.9239\n",
      "Epoch 196/200\n",
      "48000/48000 [==============================] - 1s 20us/step - loss: 0.2766 - acc: 0.9226 - val_loss: 0.2758 - val_acc: 0.9241\n",
      "Epoch 197/200\n",
      "48000/48000 [==============================] - 1s 19us/step - loss: 0.2765 - acc: 0.9229 - val_loss: 0.2758 - val_acc: 0.9242\n",
      "Epoch 198/200\n",
      "48000/48000 [==============================] - 1s 19us/step - loss: 0.2763 - acc: 0.9231 - val_loss: 0.2758 - val_acc: 0.9236\n",
      "Epoch 199/200\n",
      "48000/48000 [==============================] - 1s 20us/step - loss: 0.2762 - acc: 0.9229 - val_loss: 0.2757 - val_acc: 0.9241\n",
      "Epoch 200/200\n",
      "48000/48000 [==============================] - 1s 20us/step - loss: 0.2761 - acc: 0.9230 - val_loss: 0.2756 - val_acc: 0.9241\n"
     ]
    }
   ],
   "source": [
    "#we reserve a part of the training data for measuring performance\n",
    "# the validation while training\n",
    "history = model.fit(X_train, y_train, batch_size=BATCH_SIZE,\n",
    "                    epochs= NP_EPOCH, verbose=VERBOSE,\n",
    "                    validation_split=VALIDATION_SPLIT)"
   ]
  },
  {
   "cell_type": "code",
   "execution_count": 21,
   "metadata": {},
   "outputs": [
    {
     "name": "stdout",
     "output_type": "stream",
     "text": [
      "10000/10000 [==============================] - 0s 45us/step\n",
      "test score:  0.2773858502626419\n",
      "test accuracy:  0.9227\n"
     ]
    }
   ],
   "source": [
    "score = model.evaluate(X_test, y_test, verbose=VERBOSE)\n",
    "print(\"test score: \", score[0])\n",
    "print(\"test accuracy: \", score[1])"
   ]
  },
  {
   "cell_type": "markdown",
   "metadata": {},
   "source": [
    "Hence, we achieved an accuracy of 92.27% on the test data."
   ]
  },
  {
   "cell_type": "markdown",
   "metadata": {},
   "source": [
    "### Improving the model with hidden layers"
   ]
  },
  {
   "cell_type": "code",
   "execution_count": 22,
   "metadata": {},
   "outputs": [],
   "source": [
    "NP_EPOCH = 20\n",
    "model2 = Sequential()"
   ]
  },
  {
   "cell_type": "code",
   "execution_count": 23,
   "metadata": {},
   "outputs": [],
   "source": [
    "model2.add(Dense(N_HIDDEN, input_shape = (RESHAPED,)))\n",
    "model2.add(Activation('relu'))"
   ]
  },
  {
   "cell_type": "code",
   "execution_count": 24,
   "metadata": {},
   "outputs": [],
   "source": [
    "#the 1st hidden layer\n",
    "model2.add(Dense(N_HIDDEN))\n",
    "model2.add(Activation('relu'))"
   ]
  },
  {
   "cell_type": "code",
   "execution_count": 26,
   "metadata": {},
   "outputs": [],
   "source": [
    "model2.add(Dense(NB_CLASSES))\n",
    "model2.add(Activation('softmax'))"
   ]
  },
  {
   "cell_type": "code",
   "execution_count": 30,
   "metadata": {},
   "outputs": [
    {
     "name": "stdout",
     "output_type": "stream",
     "text": [
      "_________________________________________________________________\n",
      "Layer (type)                 Output Shape              Param #   \n",
      "=================================================================\n",
      "dense_2 (Dense)              (None, 128)               100480    \n",
      "_________________________________________________________________\n",
      "activation_2 (Activation)    (None, 128)               0         \n",
      "_________________________________________________________________\n",
      "dense_3 (Dense)              (None, 128)               16512     \n",
      "_________________________________________________________________\n",
      "activation_3 (Activation)    (None, 128)               0         \n",
      "_________________________________________________________________\n",
      "dense_4 (Dense)              (None, 10)                1290      \n",
      "_________________________________________________________________\n",
      "dense_5 (Dense)              (None, 10)                110       \n",
      "_________________________________________________________________\n",
      "activation_5 (Activation)    (None, 10)                0         \n",
      "=================================================================\n",
      "Total params: 118,392\n",
      "Trainable params: 118,392\n",
      "Non-trainable params: 0\n",
      "_________________________________________________________________\n"
     ]
    }
   ],
   "source": [
    "model2.summary()"
   ]
  },
  {
   "cell_type": "code",
   "execution_count": 31,
   "metadata": {},
   "outputs": [],
   "source": [
    "model2.compile(loss = 'categorical_crossentropy', optimizer = OPTIMIZER, metrics = ['accuracy'])"
   ]
  },
  {
   "cell_type": "code",
   "execution_count": 32,
   "metadata": {},
   "outputs": [
    {
     "name": "stdout",
     "output_type": "stream",
     "text": [
      "Train on 48000 samples, validate on 12000 samples\n",
      "Epoch 1/20\n",
      "48000/48000 [==============================] - 2s 46us/step - loss: 1.4975 - acc: 0.5817 - val_loss: 0.8414 - val_acc: 0.7628\n",
      "Epoch 2/20\n",
      "48000/48000 [==============================] - 2s 36us/step - loss: 0.6772 - acc: 0.8053 - val_loss: 0.5155 - val_acc: 0.8525\n",
      "Epoch 3/20\n",
      "48000/48000 [==============================] - 2s 39us/step - loss: 0.4747 - acc: 0.8661 - val_loss: 0.3968 - val_acc: 0.8856\n",
      "Epoch 4/20\n",
      "48000/48000 [==============================] - 2s 39us/step - loss: 0.3860 - acc: 0.8902 - val_loss: 0.3383 - val_acc: 0.9022\n",
      "Epoch 5/20\n",
      "48000/48000 [==============================] - 2s 37us/step - loss: 0.3352 - acc: 0.9039 - val_loss: 0.3010 - val_acc: 0.9113\n",
      "Epoch 6/20\n",
      "48000/48000 [==============================] - 2s 41us/step - loss: 0.3003 - acc: 0.9137 - val_loss: 0.2748 - val_acc: 0.9197\n",
      "Epoch 7/20\n",
      "48000/48000 [==============================] - 2s 43us/step - loss: 0.2742 - acc: 0.9209 - val_loss: 0.2529 - val_acc: 0.9242\n",
      "Epoch 8/20\n",
      "48000/48000 [==============================] - 2s 40us/step - loss: 0.2536 - acc: 0.9266 - val_loss: 0.2355 - val_acc: 0.9318\n",
      "Epoch 9/20\n",
      "48000/48000 [==============================] - 2s 40us/step - loss: 0.2362 - acc: 0.9312 - val_loss: 0.2227 - val_acc: 0.9359\n",
      "Epoch 10/20\n",
      "48000/48000 [==============================] - 2s 37us/step - loss: 0.2214 - acc: 0.9350 - val_loss: 0.2111 - val_acc: 0.9390\n",
      "Epoch 11/20\n",
      "48000/48000 [==============================] - 2s 37us/step - loss: 0.2086 - acc: 0.9395 - val_loss: 0.2023 - val_acc: 0.9422\n",
      "Epoch 12/20\n",
      "48000/48000 [==============================] - 2s 38us/step - loss: 0.1972 - acc: 0.9421 - val_loss: 0.1932 - val_acc: 0.9443\n",
      "Epoch 13/20\n",
      "48000/48000 [==============================] - 2s 39us/step - loss: 0.1872 - acc: 0.9454 - val_loss: 0.1866 - val_acc: 0.9459\n",
      "Epoch 14/20\n",
      "48000/48000 [==============================] - 2s 48us/step - loss: 0.1777 - acc: 0.9488 - val_loss: 0.1775 - val_acc: 0.9487\n",
      "Epoch 15/20\n",
      "48000/48000 [==============================] - 3s 55us/step - loss: 0.1696 - acc: 0.9513 - val_loss: 0.1718 - val_acc: 0.9512\n",
      "Epoch 16/20\n",
      "48000/48000 [==============================] - 2s 40us/step - loss: 0.1617 - acc: 0.9528 - val_loss: 0.1677 - val_acc: 0.9517\n",
      "Epoch 17/20\n",
      "48000/48000 [==============================] - 2s 38us/step - loss: 0.1545 - acc: 0.9548 - val_loss: 0.1635 - val_acc: 0.9528\n",
      "Epoch 18/20\n",
      "48000/48000 [==============================] - 2s 37us/step - loss: 0.1487 - acc: 0.9565 - val_loss: 0.1598 - val_acc: 0.9532\n",
      "Epoch 19/20\n",
      "48000/48000 [==============================] - 2s 39us/step - loss: 0.1424 - acc: 0.9584 - val_loss: 0.1549 - val_acc: 0.9568\n",
      "Epoch 20/20\n",
      "48000/48000 [==============================] - 2s 41us/step - loss: 0.1373 - acc: 0.9600 - val_loss: 0.1508 - val_acc: 0.9583\n"
     ]
    },
    {
     "data": {
      "text/plain": [
       "<keras.callbacks.History at 0x1e3c57b3208>"
      ]
     },
     "execution_count": 32,
     "metadata": {},
     "output_type": "execute_result"
    }
   ],
   "source": [
    "model2.fit(X_train, y_train, batch_size=BATCH_SIZE, epochs=NP_EPOCH, verbose=VERBOSE, validation_split=VALIDATION_SPLIT)"
   ]
  },
  {
   "cell_type": "code",
   "execution_count": 34,
   "metadata": {},
   "outputs": [
    {
     "name": "stdout",
     "output_type": "stream",
     "text": [
      "10000/10000 [==============================] - 0s 45us/step\n",
      "test score:  0.14248205675780773\n",
      "test accuracy:  0.9578\n"
     ]
    }
   ],
   "source": [
    "score = model2.evaluate(X_test, y_test, verbose=VERBOSE)\n",
    "print(\"test score: \", score[0])\n",
    "print(\"test accuracy: \", score[1])"
   ]
  },
  {
   "cell_type": "markdown",
   "metadata": {},
   "source": [
    "Improved accuracy: new accuracy is 95.78% "
   ]
  },
  {
   "cell_type": "markdown",
   "metadata": {},
   "source": [
    "### Experimenting with dropout "
   ]
  },
  {
   "cell_type": "code",
   "execution_count": 35,
   "metadata": {},
   "outputs": [],
   "source": [
    "DROPOUT = 0.3"
   ]
  },
  {
   "cell_type": "code",
   "execution_count": 37,
   "metadata": {},
   "outputs": [],
   "source": [
    "model3 = Sequential()"
   ]
  },
  {
   "cell_type": "code",
   "execution_count": 40,
   "metadata": {},
   "outputs": [],
   "source": [
    "from keras.layers import Dropout"
   ]
  },
  {
   "cell_type": "code",
   "execution_count": 42,
   "metadata": {},
   "outputs": [],
   "source": [
    "model3.add(Dropout(DROPOUT, input_shape = (RESHAPED,)))\n",
    "model3.add(Dense(N_HIDDEN, activation='relu'))"
   ]
  },
  {
   "cell_type": "code",
   "execution_count": 44,
   "metadata": {},
   "outputs": [],
   "source": [
    "model3.add(Dense(NB_CLASSES, activation='softmax'))"
   ]
  },
  {
   "cell_type": "code",
   "execution_count": 45,
   "metadata": {},
   "outputs": [
    {
     "name": "stdout",
     "output_type": "stream",
     "text": [
      "_________________________________________________________________\n",
      "Layer (type)                 Output Shape              Param #   \n",
      "=================================================================\n",
      "dense_7 (Dense)              (None, 128)               100480    \n",
      "_________________________________________________________________\n",
      "activation_7 (Activation)    (None, 128)               0         \n",
      "_________________________________________________________________\n",
      "dropout_1 (Dropout)          (None, 128)               0         \n",
      "_________________________________________________________________\n",
      "dense_8 (Dense)              (None, 128)               16512     \n",
      "_________________________________________________________________\n",
      "dropout_2 (Dropout)          (None, 128)               0         \n",
      "_________________________________________________________________\n",
      "dense_9 (Dense)              (None, 128)               16512     \n",
      "_________________________________________________________________\n",
      "dense_10 (Dense)             (None, 10)                1290      \n",
      "=================================================================\n",
      "Total params: 134,794\n",
      "Trainable params: 134,794\n",
      "Non-trainable params: 0\n",
      "_________________________________________________________________\n"
     ]
    }
   ],
   "source": [
    "model3.summary()"
   ]
  },
  {
   "cell_type": "code",
   "execution_count": 46,
   "metadata": {},
   "outputs": [],
   "source": [
    "model3.compile(loss = 'categorical_crossentropy', optimizer = OPTIMIZER, metrics = ['accuracy'])"
   ]
  },
  {
   "cell_type": "code",
   "execution_count": 47,
   "metadata": {},
   "outputs": [
    {
     "name": "stdout",
     "output_type": "stream",
     "text": [
      "Train on 48000 samples, validate on 12000 samples\n",
      "Epoch 1/20\n",
      "48000/48000 [==============================] - 3s 66us/step - loss: 1.8897 - acc: 0.4003 - val_loss: 1.0759 - val_acc: 0.7549\n",
      "Epoch 2/20\n",
      "48000/48000 [==============================] - 3s 54us/step - loss: 1.0297 - acc: 0.6713 - val_loss: 0.5841 - val_acc: 0.8461\n",
      "Epoch 3/20\n",
      "48000/48000 [==============================] - 3s 56us/step - loss: 0.7495 - acc: 0.7680 - val_loss: 0.4472 - val_acc: 0.8794\n",
      "Epoch 4/20\n",
      "48000/48000 [==============================] - 3s 59us/step - loss: 0.6244 - acc: 0.8104 - val_loss: 0.3794 - val_acc: 0.8937\n",
      "Epoch 5/20\n",
      "48000/48000 [==============================] - 3s 62us/step - loss: 0.5473 - acc: 0.8350 - val_loss: 0.3376 - val_acc: 0.9040\n",
      "Epoch 6/20\n",
      "48000/48000 [==============================] - 4s 73us/step - loss: 0.4938 - acc: 0.8527 - val_loss: 0.3105 - val_acc: 0.9087\n",
      "Epoch 7/20\n",
      "48000/48000 [==============================] - 4s 74us/step - loss: 0.4583 - acc: 0.8642 - val_loss: 0.2863 - val_acc: 0.9168\n",
      "Epoch 8/20\n",
      "48000/48000 [==============================] - 3s 68us/step - loss: 0.4281 - acc: 0.8733 - val_loss: 0.2703 - val_acc: 0.9208\n",
      "Epoch 9/20\n",
      "48000/48000 [==============================] - 3s 57us/step - loss: 0.4055 - acc: 0.8795 - val_loss: 0.2556 - val_acc: 0.9244\n",
      "Epoch 10/20\n",
      "48000/48000 [==============================] - 3s 60us/step - loss: 0.3820 - acc: 0.8864 - val_loss: 0.2403 - val_acc: 0.9286\n",
      "Epoch 11/20\n",
      "48000/48000 [==============================] - 3s 60us/step - loss: 0.3630 - acc: 0.8924 - val_loss: 0.2301 - val_acc: 0.9310\n",
      "Epoch 12/20\n",
      "48000/48000 [==============================] - 3s 60us/step - loss: 0.3512 - acc: 0.8952 - val_loss: 0.2209 - val_acc: 0.9339\n",
      "Epoch 13/20\n",
      "48000/48000 [==============================] - 3s 57us/step - loss: 0.3365 - acc: 0.9017 - val_loss: 0.2121 - val_acc: 0.9352\n",
      "Epoch 14/20\n",
      "48000/48000 [==============================] - 3s 57us/step - loss: 0.3196 - acc: 0.9057 - val_loss: 0.2030 - val_acc: 0.9399\n",
      "Epoch 15/20\n",
      "48000/48000 [==============================] - 3s 60us/step - loss: 0.3099 - acc: 0.9080 - val_loss: 0.1964 - val_acc: 0.9412\n",
      "Epoch 16/20\n",
      "48000/48000 [==============================] - 3s 56us/step - loss: 0.3014 - acc: 0.9100 - val_loss: 0.1893 - val_acc: 0.9442\n",
      "Epoch 17/20\n",
      "48000/48000 [==============================] - 3s 63us/step - loss: 0.2891 - acc: 0.9131 - val_loss: 0.1849 - val_acc: 0.9443\n",
      "Epoch 18/20\n",
      "48000/48000 [==============================] - 3s 57us/step - loss: 0.2808 - acc: 0.9174 - val_loss: 0.1798 - val_acc: 0.9459\n",
      "Epoch 19/20\n",
      "48000/48000 [==============================] - 3s 65us/step - loss: 0.2716 - acc: 0.9189 - val_loss: 0.1734 - val_acc: 0.9488\n",
      "Epoch 20/20\n",
      "48000/48000 [==============================] - 3s 58us/step - loss: 0.2625 - acc: 0.9217 - val_loss: 0.1692 - val_acc: 0.9504\n"
     ]
    },
    {
     "data": {
      "text/plain": [
       "<keras.callbacks.History at 0x1e3d5d86e10>"
      ]
     },
     "execution_count": 47,
     "metadata": {},
     "output_type": "execute_result"
    }
   ],
   "source": [
    "model3.fit(X_train, y_train, batch_size=BATCH_SIZE, epochs=NP_EPOCH, verbose=VERBOSE, validation_split=VALIDATION_SPLIT)"
   ]
  },
  {
   "cell_type": "code",
   "execution_count": 48,
   "metadata": {},
   "outputs": [
    {
     "name": "stdout",
     "output_type": "stream",
     "text": [
      "10000/10000 [==============================] - 1s 59us/step\n",
      "test score:  0.17060165482982992\n",
      "test accuracy:  0.9479\n"
     ]
    }
   ],
   "source": [
    "score = model3.evaluate(X_test, y_test, verbose=VERBOSE)\n",
    "print(\"test score: \", score[0])\n",
    "print(\"test accuracy: \", score[1])"
   ]
  },
  {
   "cell_type": "markdown",
   "metadata": {},
   "source": [
    "Accuracy slightly lower when dropout has been applied. "
   ]
  },
  {
   "cell_type": "markdown",
   "metadata": {},
   "source": [
    "### Let us change the optimizer to RMSProp and try again."
   ]
  },
  {
   "cell_type": "code",
   "execution_count": 49,
   "metadata": {},
   "outputs": [],
   "source": [
    "from keras.optimizers import RMSprop"
   ]
  },
  {
   "cell_type": "code",
   "execution_count": 51,
   "metadata": {},
   "outputs": [],
   "source": [
    "OPTIMIZER = RMSprop()\n",
    "model3.compile(loss = 'categorical_crossentropy', optimizer = OPTIMIZER, metrics = ['accuracy'])"
   ]
  },
  {
   "cell_type": "code",
   "execution_count": 52,
   "metadata": {},
   "outputs": [
    {
     "name": "stdout",
     "output_type": "stream",
     "text": [
      "Train on 48000 samples, validate on 12000 samples\n",
      "Epoch 1/20\n",
      "48000/48000 [==============================] - 3s 72us/step - loss: 0.2469 - acc: 0.9257 - val_loss: 0.1385 - val_acc: 0.9604\n",
      "Epoch 2/20\n",
      "48000/48000 [==============================] - 3s 63us/step - loss: 0.1845 - acc: 0.9454 - val_loss: 0.1144 - val_acc: 0.9671\n",
      "Epoch 3/20\n",
      "48000/48000 [==============================] - 3s 59us/step - loss: 0.1541 - acc: 0.9548 - val_loss: 0.1092 - val_acc: 0.9693\n",
      "Epoch 4/20\n",
      "48000/48000 [==============================] - 3s 65us/step - loss: 0.1385 - acc: 0.9587 - val_loss: 0.0983 - val_acc: 0.9720\n",
      "Epoch 5/20\n",
      "48000/48000 [==============================] - 3s 54us/step - loss: 0.1248 - acc: 0.9628 - val_loss: 0.0970 - val_acc: 0.9737\n",
      "Epoch 6/20\n",
      "48000/48000 [==============================] - 3s 63us/step - loss: 0.1126 - acc: 0.9667 - val_loss: 0.0970 - val_acc: 0.9731\n",
      "Epoch 7/20\n",
      "48000/48000 [==============================] - 3s 67us/step - loss: 0.1086 - acc: 0.9684 - val_loss: 0.0940 - val_acc: 0.9741\n",
      "Epoch 8/20\n",
      "48000/48000 [==============================] - 3s 67us/step - loss: 0.1017 - acc: 0.9697 - val_loss: 0.0932 - val_acc: 0.9758\n",
      "Epoch 9/20\n",
      "48000/48000 [==============================] - 3s 66us/step - loss: 0.0966 - acc: 0.9718 - val_loss: 0.0995 - val_acc: 0.9745\n",
      "Epoch 10/20\n",
      "48000/48000 [==============================] - 3s 67us/step - loss: 0.0920 - acc: 0.9726 - val_loss: 0.0890 - val_acc: 0.9765\n",
      "Epoch 11/20\n",
      "48000/48000 [==============================] - 3s 63us/step - loss: 0.0902 - acc: 0.9736 - val_loss: 0.0989 - val_acc: 0.9752\n",
      "Epoch 12/20\n",
      "48000/48000 [==============================] - 3s 66us/step - loss: 0.0849 - acc: 0.9746 - val_loss: 0.0927 - val_acc: 0.9776\n",
      "Epoch 13/20\n",
      "48000/48000 [==============================] - 3s 63us/step - loss: 0.0810 - acc: 0.9761 - val_loss: 0.1004 - val_acc: 0.9745\n",
      "Epoch 14/20\n",
      "48000/48000 [==============================] - 3s 57us/step - loss: 0.0801 - acc: 0.9775 - val_loss: 0.0928 - val_acc: 0.9777\n",
      "Epoch 15/20\n",
      "48000/48000 [==============================] - 4s 73us/step - loss: 0.0810 - acc: 0.9771 - val_loss: 0.1032 - val_acc: 0.9760\n",
      "Epoch 16/20\n",
      "48000/48000 [==============================] - 4s 83us/step - loss: 0.0768 - acc: 0.9766 - val_loss: 0.0978 - val_acc: 0.9780\n",
      "Epoch 17/20\n",
      "48000/48000 [==============================] - 3s 58us/step - loss: 0.0717 - acc: 0.9779 - val_loss: 0.0988 - val_acc: 0.9773\n",
      "Epoch 18/20\n",
      "48000/48000 [==============================] - 3s 59us/step - loss: 0.0704 - acc: 0.9796 - val_loss: 0.0970 - val_acc: 0.9785\n",
      "Epoch 19/20\n",
      "48000/48000 [==============================] - 3s 57us/step - loss: 0.0712 - acc: 0.9794 - val_loss: 0.0984 - val_acc: 0.9765\n",
      "Epoch 20/20\n",
      "48000/48000 [==============================] - 3s 57us/step - loss: 0.0682 - acc: 0.9805 - val_loss: 0.1103 - val_acc: 0.9768\n"
     ]
    },
    {
     "data": {
      "text/plain": [
       "<keras.callbacks.History at 0x1e3d5df66d8>"
      ]
     },
     "execution_count": 52,
     "metadata": {},
     "output_type": "execute_result"
    }
   ],
   "source": [
    "model3.fit(X_train, y_train, batch_size=BATCH_SIZE, epochs=NP_EPOCH, verbose=VERBOSE, validation_split=VALIDATION_SPLIT)"
   ]
  },
  {
   "cell_type": "code",
   "execution_count": 53,
   "metadata": {},
   "outputs": [
    {
     "name": "stdout",
     "output_type": "stream",
     "text": [
      "10000/10000 [==============================] - 1s 54us/step\n",
      "test score:  0.10480711509194261\n",
      "test accuracy:  0.9777\n"
     ]
    }
   ],
   "source": [
    "score = model3.evaluate(X_test, y_test, verbose=VERBOSE)\n",
    "print(\"test score: \", score[0])\n",
    "print(\"test accuracy: \", score[1])"
   ]
  },
  {
   "cell_type": "markdown",
   "metadata": {},
   "source": [
    "### Try Adam optimizer"
   ]
  },
  {
   "cell_type": "code",
   "execution_count": 54,
   "metadata": {},
   "outputs": [],
   "source": [
    "from keras.optimizers import Adam"
   ]
  },
  {
   "cell_type": "code",
   "execution_count": 55,
   "metadata": {},
   "outputs": [],
   "source": [
    "OPTIMIZER = Adam()\n",
    "model3.compile(loss = 'categorical_crossentropy', optimizer = OPTIMIZER, metrics = ['accuracy'])"
   ]
  },
  {
   "cell_type": "code",
   "execution_count": 56,
   "metadata": {},
   "outputs": [
    {
     "name": "stdout",
     "output_type": "stream",
     "text": [
      "Train on 48000 samples, validate on 12000 samples\n",
      "Epoch 1/20\n",
      "48000/48000 [==============================] - 3s 70us/step - loss: 0.0743 - acc: 0.9783 - val_loss: 0.0912 - val_acc: 0.9778\n",
      "Epoch 2/20\n",
      "48000/48000 [==============================] - 4s 84us/step - loss: 0.0702 - acc: 0.9782 - val_loss: 0.0901 - val_acc: 0.9779\n",
      "Epoch 3/20\n",
      "48000/48000 [==============================] - 3s 59us/step - loss: 0.0637 - acc: 0.9803 - val_loss: 0.0940 - val_acc: 0.9772\n",
      "Epoch 4/20\n",
      "48000/48000 [==============================] - 3s 64us/step - loss: 0.0632 - acc: 0.9807 - val_loss: 0.0917 - val_acc: 0.9770\n",
      "Epoch 5/20\n",
      "48000/48000 [==============================] - 3s 61us/step - loss: 0.0631 - acc: 0.9806 - val_loss: 0.0907 - val_acc: 0.9774\n",
      "Epoch 6/20\n",
      "48000/48000 [==============================] - 3s 66us/step - loss: 0.0595 - acc: 0.9818 - val_loss: 0.0889 - val_acc: 0.9770\n",
      "Epoch 7/20\n",
      "48000/48000 [==============================] - 3s 58us/step - loss: 0.0586 - acc: 0.9816 - val_loss: 0.0888 - val_acc: 0.9773\n",
      "Epoch 8/20\n",
      "48000/48000 [==============================] - 3s 57us/step - loss: 0.0550 - acc: 0.9834 - val_loss: 0.0831 - val_acc: 0.9804\n",
      "Epoch 9/20\n",
      "48000/48000 [==============================] - 3s 59us/step - loss: 0.0578 - acc: 0.9819 - val_loss: 0.0872 - val_acc: 0.9768\n",
      "Epoch 10/20\n",
      "48000/48000 [==============================] - 3s 65us/step - loss: 0.0518 - acc: 0.9838 - val_loss: 0.0876 - val_acc: 0.9758\n",
      "Epoch 11/20\n",
      "48000/48000 [==============================] - 3s 70us/step - loss: 0.0513 - acc: 0.9835 - val_loss: 0.0790 - val_acc: 0.9799\n",
      "Epoch 12/20\n",
      "48000/48000 [==============================] - 3s 63us/step - loss: 0.0500 - acc: 0.9843 - val_loss: 0.0822 - val_acc: 0.9778\n",
      "Epoch 13/20\n",
      "48000/48000 [==============================] - 4s 75us/step - loss: 0.0512 - acc: 0.9842 - val_loss: 0.0815 - val_acc: 0.9780\n",
      "Epoch 14/20\n",
      "48000/48000 [==============================] - 3s 65us/step - loss: 0.0461 - acc: 0.9853 - val_loss: 0.0856 - val_acc: 0.9783\n",
      "Epoch 15/20\n",
      "48000/48000 [==============================] - 4s 77us/step - loss: 0.0479 - acc: 0.9845 - val_loss: 0.0835 - val_acc: 0.9786\n",
      "Epoch 16/20\n",
      "48000/48000 [==============================] - 3s 60us/step - loss: 0.0480 - acc: 0.9845 - val_loss: 0.0856 - val_acc: 0.9780\n",
      "Epoch 17/20\n",
      "48000/48000 [==============================] - 3s 69us/step - loss: 0.0485 - acc: 0.9846 - val_loss: 0.0791 - val_acc: 0.9782\n",
      "Epoch 18/20\n",
      "48000/48000 [==============================] - 3s 62us/step - loss: 0.0431 - acc: 0.9860 - val_loss: 0.0794 - val_acc: 0.9807\n",
      "Epoch 19/20\n",
      "48000/48000 [==============================] - 3s 63us/step - loss: 0.0415 - acc: 0.9867 - val_loss: 0.0860 - val_acc: 0.9789\n",
      "Epoch 20/20\n",
      "48000/48000 [==============================] - 3s 63us/step - loss: 0.0413 - acc: 0.9868 - val_loss: 0.0855 - val_acc: 0.9783\n"
     ]
    },
    {
     "data": {
      "text/plain": [
       "<keras.callbacks.History at 0x1e3c7dda588>"
      ]
     },
     "execution_count": 56,
     "metadata": {},
     "output_type": "execute_result"
    }
   ],
   "source": [
    "model3.fit(X_train, y_train, batch_size=BATCH_SIZE, epochs=NP_EPOCH, verbose=VERBOSE, validation_split=VALIDATION_SPLIT)"
   ]
  },
  {
   "cell_type": "code",
   "execution_count": 57,
   "metadata": {},
   "outputs": [
    {
     "name": "stdout",
     "output_type": "stream",
     "text": [
      "10000/10000 [==============================] - 1s 54us/step\n",
      "test score:  0.0800942157833626\n",
      "test accuracy:  0.9806\n"
     ]
    }
   ],
   "source": [
    "score = model3.evaluate(X_test, y_test, verbose=VERBOSE)\n",
    "print(\"test score: \", score[0])\n",
    "print(\"test accuracy: \", score[1])"
   ]
  },
  {
   "cell_type": "markdown",
   "metadata": {},
   "source": [
    "Clearly, Adam optimizer gives the best test accuracy from all the algorithms"
   ]
  },
  {
   "cell_type": "code",
   "execution_count": null,
   "metadata": {},
   "outputs": [],
   "source": []
  }
 ],
 "metadata": {
  "kernelspec": {
   "display_name": "Python 3",
   "language": "python",
   "name": "python3"
  },
  "language_info": {
   "codemirror_mode": {
    "name": "ipython",
    "version": 3
   },
   "file_extension": ".py",
   "mimetype": "text/x-python",
   "name": "python",
   "nbconvert_exporter": "python",
   "pygments_lexer": "ipython3",
   "version": "3.6.10"
  }
 },
 "nbformat": 4,
 "nbformat_minor": 4
}
